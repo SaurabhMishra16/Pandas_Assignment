{
 "cells": [
  {
   "cell_type": "markdown",
   "id": "9bb4e356-7567-4fdf-8266-94b4a36c8470",
   "metadata": {},
   "source": [
    "Q1. Create a Pandas Series that contains the following data: 4, 8, 15, 16, 23, and 42. Then, print the series."
   ]
  },
  {
   "cell_type": "code",
   "execution_count": 5,
   "id": "5cac4596-d58b-4dd3-8e28-e2c8f5821d69",
   "metadata": {},
   "outputs": [
    {
     "name": "stdout",
     "output_type": "stream",
     "text": [
      "<class 'pandas.core.series.Series'>\n"
     ]
    },
    {
     "data": {
      "text/plain": [
       "0     4\n",
       "1     8\n",
       "2    15\n",
       "3    16\n",
       "4    23\n",
       "5    42\n",
       "dtype: int64"
      ]
     },
     "execution_count": 5,
     "metadata": {},
     "output_type": "execute_result"
    }
   ],
   "source": [
    "import pandas as pd\n",
    "\n",
    "d = [4,8,15,16,23,42]\n",
    "\n",
    "ds = pd.Series(d)\n",
    "print(type(ds))\n",
    "\n",
    "ds"
   ]
  },
  {
   "cell_type": "markdown",
   "id": "5401fac6-e7ea-4a2a-8e6e-0b4ed0926426",
   "metadata": {},
   "source": [
    "Q2. Create a variable of list type containing 10 elements in it, and apply pandas.Series function on the\n",
    "variable print it."
   ]
  },
  {
   "cell_type": "code",
   "execution_count": 2,
   "id": "a3a6dbe7-a0ea-47f1-bb8f-767eae1e30bb",
   "metadata": {},
   "outputs": [
    {
     "name": "stdout",
     "output_type": "stream",
     "text": [
      "0    0\n",
      "1    1\n",
      "2    2\n",
      "3    3\n",
      "4    4\n",
      "5    5\n",
      "6    6\n",
      "7    7\n",
      "8    8\n",
      "9    9\n",
      "dtype: int64\n"
     ]
    }
   ],
   "source": [
    "import pandas as pd\n",
    "\n",
    "d = [i for i in range(0,10)]\n",
    "\n",
    "ds = pd.Series(d)\n",
    "\n",
    "print(ds)\n"
   ]
  },
  {
   "cell_type": "markdown",
   "id": "6f061241-5908-49ee-9e8c-30a5ee0560d2",
   "metadata": {},
   "source": [
    "Q3. Create a Pandas DataFrame that contains the following data:"
   ]
  },
  {
   "cell_type": "code",
   "execution_count": 3,
   "id": "5f004fe1-860e-43b1-80fc-c33a33d29370",
   "metadata": {},
   "outputs": [
    {
     "data": {
      "text/html": [
       "<div>\n",
       "<style scoped>\n",
       "    .dataframe tbody tr th:only-of-type {\n",
       "        vertical-align: middle;\n",
       "    }\n",
       "\n",
       "    .dataframe tbody tr th {\n",
       "        vertical-align: top;\n",
       "    }\n",
       "\n",
       "    .dataframe thead th {\n",
       "        text-align: right;\n",
       "    }\n",
       "</style>\n",
       "<table border=\"1\" class=\"dataframe\">\n",
       "  <thead>\n",
       "    <tr style=\"text-align: right;\">\n",
       "      <th></th>\n",
       "      <th>Name</th>\n",
       "      <th>Age</th>\n",
       "      <th>Gender</th>\n",
       "    </tr>\n",
       "  </thead>\n",
       "  <tbody>\n",
       "    <tr>\n",
       "      <th>0</th>\n",
       "      <td>Alice</td>\n",
       "      <td>25</td>\n",
       "      <td>Female</td>\n",
       "    </tr>\n",
       "    <tr>\n",
       "      <th>1</th>\n",
       "      <td>Bob</td>\n",
       "      <td>30</td>\n",
       "      <td>Male</td>\n",
       "    </tr>\n",
       "    <tr>\n",
       "      <th>2</th>\n",
       "      <td>Claire</td>\n",
       "      <td>27</td>\n",
       "      <td>Female</td>\n",
       "    </tr>\n",
       "  </tbody>\n",
       "</table>\n",
       "</div>"
      ],
      "text/plain": [
       "     Name  Age  Gender\n",
       "0   Alice   25  Female\n",
       "1     Bob   30    Male\n",
       "2  Claire   27  Female"
      ]
     },
     "execution_count": 3,
     "metadata": {},
     "output_type": "execute_result"
    }
   ],
   "source": [
    "import pandas as pd\n",
    "\n",
    "data = {'Name':['Alice','Bob','Claire'],\n",
    "       'Age':[25,30,27],\n",
    "       'Gender':['Female','Male','Female']}\n",
    "\n",
    "df = pd.DataFrame(data)\n",
    "df"
   ]
  },
  {
   "cell_type": "markdown",
   "id": "f77adc14-9c45-4c83-afa4-74eea52a17a6",
   "metadata": {},
   "source": [
    "Q4. What is ‘DataFrame’ in pandas and how is it different from pandas.series? Explain with an example."
   ]
  },
  {
   "cell_type": "markdown",
   "id": "a51bfebe-b296-404e-93c3-609b482d47b0",
   "metadata": {},
   "source": [
    "A DataFrame is a two-dimensional labeled data sturcture. It is one of the key data structure provided by the pandas library, which is widely used for data manipulation and data anlysis in python.\n",
    "A DataFrame can be thought of as table, where data is organized in row and column, Each column in a DataFrame represents a different variable or feature, while each row represents a specific observation or data point. This tabular structure makes it easy to work with structured data\n",
    "\n",
    "While a DataFrame is a two-dimensional data structure in pandas, a pandas Series is a one-dimensional array-like object. Here are the main differences between a DataFrame and a Series:\n",
    "\n",
    "1. Dimensions: A DataFrame consists of multiple columns, where each column can contain different types of data. In contrast, a Series has only one column.\n",
    "\n",
    "2. Labels: In a DataFrame, both the rows and columns have labels, allowing for easy indexing and selection of data. Each column in a DataFrame has its own label, which can be used to access specific columns or perform column-wise operations. In a Series, the data is associated with a single index, allowing for efficient access to individual elements.\n",
    "\n",
    "3. Tabular Structure: DataFrames are tabular structures, similar to a table in a spreadsheet, with rows and columns. On the other hand, a Series is more like a single column of data, with an index associated with each element.\n",
    "\n",
    "4. Operations: DataFrames and Series support different operations. DataFrames are designed for operations that involve multiple columns, such as merging, reshaping, or aggregating data across different variables. Series, on the other hand, are more suitable for operations that involve single columns, like mathematical computations or data selection based on specific conditions.\n",
    "\n",
    "5. Data Type: While a DataFrame can contain columns with different data types, a Series has a homogeneous data type for all its elements. This allows DataFrames to handle mixed data more efficiently, whereas Series are optimized for working with homogeneous data.\n",
    "\n",
    "Example:- \n",
    "\n",
    "import pandas as pd\n",
    "\n",
    "data = {'Name':['Alice','Bob','Claire'],\n",
    "       \n",
    "       'Age':[25,30,27],\n",
    "       \n",
    "       'Gender':['Female','Male','Female']}\n",
    "\n",
    "df = pd.DataFrame(data)\n",
    "\n",
    "#DataFrame\n",
    "\n",
    "print(df)\n",
    "\n",
    "#Print Series\n",
    "print(df['Age'])\n"
   ]
  },
  {
   "cell_type": "markdown",
   "id": "2cd845cb-c98a-44dc-98e9-bf0621b9a60a",
   "metadata": {},
   "source": [
    "Q5. What are some common functions you can use to manipulate data in a Pandas DataFrame? Can\n",
    "you give an example of when you might use one of these functions?"
   ]
  },
  {
   "cell_type": "markdown",
   "id": "d3b228c7-07f4-49d9-9f5b-06b5cce6b2a9",
   "metadata": {},
   "source": [
    "Pandas provides a wide range of functions and methods to manipulate data in a DataFrame. Here are some common functions:\n",
    "\n",
    "1. head() and tail(): These functions allow you to view the first or last few rows of a DataFrame, respectively. They are useful for quickly inspecting the data and getting a glimpse of its structure.\n",
    "\n",
    "2. info(): This function provides a concise summary of a DataFrame, including the data types, column names, and non-null values. It is useful for understanding the overall structure of the data.\n",
    "\n",
    "3. shape: This attribute returns the dimensions of a DataFrame as a tuple (number of rows, number of columns). It is handy for quickly checking the size of the DataFrame.\n",
    "\n",
    "4. describe(): This function generates various summary statistics of the numerical columns in a DataFrame, such as count, mean, standard deviation, minimum, maximum, and quartiles. It helps to gain insights into the distribution and basic statistics of the data."
   ]
  },
  {
   "cell_type": "code",
   "execution_count": 13,
   "id": "8f91bbf8-3475-44e2-871c-2d915cc4e7b5",
   "metadata": {},
   "outputs": [
    {
     "data": {
      "text/html": [
       "<div>\n",
       "<style scoped>\n",
       "    .dataframe tbody tr th:only-of-type {\n",
       "        vertical-align: middle;\n",
       "    }\n",
       "\n",
       "    .dataframe tbody tr th {\n",
       "        vertical-align: top;\n",
       "    }\n",
       "\n",
       "    .dataframe thead th {\n",
       "        text-align: right;\n",
       "    }\n",
       "</style>\n",
       "<table border=\"1\" class=\"dataframe\">\n",
       "  <thead>\n",
       "    <tr style=\"text-align: right;\">\n",
       "      <th></th>\n",
       "      <th>name</th>\n",
       "      <th>Age</th>\n",
       "      <th>course</th>\n",
       "    </tr>\n",
       "  </thead>\n",
       "  <tbody>\n",
       "    <tr>\n",
       "      <th>0</th>\n",
       "      <td>Rohit</td>\n",
       "      <td>17</td>\n",
       "      <td>DSA</td>\n",
       "    </tr>\n",
       "    <tr>\n",
       "      <th>1</th>\n",
       "      <td>Mohit</td>\n",
       "      <td>18</td>\n",
       "      <td>C</td>\n",
       "    </tr>\n",
       "    <tr>\n",
       "      <th>2</th>\n",
       "      <td>Ram</td>\n",
       "      <td>21</td>\n",
       "      <td>C++</td>\n",
       "    </tr>\n",
       "    <tr>\n",
       "      <th>3</th>\n",
       "      <td>Shyam</td>\n",
       "      <td>19</td>\n",
       "      <td>JAVA</td>\n",
       "    </tr>\n",
       "    <tr>\n",
       "      <th>4</th>\n",
       "      <td>Rohan</td>\n",
       "      <td>34</td>\n",
       "      <td>DS</td>\n",
       "    </tr>\n",
       "  </tbody>\n",
       "</table>\n",
       "</div>"
      ],
      "text/plain": [
       "    name  Age course\n",
       "0  Rohit   17    DSA\n",
       "1  Mohit   18      C\n",
       "2    Ram   21    C++\n",
       "3  Shyam   19   JAVA\n",
       "4  Rohan   34     DS"
      ]
     },
     "execution_count": 13,
     "metadata": {},
     "output_type": "execute_result"
    }
   ],
   "source": [
    "import pandas as pd\n",
    "data = {'name':['Rohit', 'Mohit','Ram','Shyam','Rohan','Rahul','Mohan','Shreya'],\n",
    "       'Age':[17,18,21,19,34,15,24,25],\n",
    "       'course':['DSA','C','C++','JAVA','DS','PHP','JAVASCRIPT','PYTHON']}\n",
    "\n",
    "df = pd.DataFrame(data)\n",
    "df.head(5)"
   ]
  },
  {
   "cell_type": "markdown",
   "id": "d6f8e947-1923-40cc-b833-0f59ca3fc012",
   "metadata": {},
   "source": [
    "Q6. Which of the following is mutable in nature Series, DataFrame, Panel?"
   ]
  },
  {
   "cell_type": "markdown",
   "id": "c40d0c87-08fb-4667-9a79-3631d5121c7c",
   "metadata": {},
   "source": [
    "1. Series: A pandas Series is mutable, meaning its values can be modified after it has been created. You can change or update the values of individual elements in a Series.\n",
    "\n",
    "2. DataFrame: Similarly, a pandas DataFrame is mutable. You can modify the values of specific cells, add or remove rows or columns, and perform various operations that change the data within the DataFrame.\n",
    "\n",
    "3. Panel: The pandas Panel was a three-dimensional data structure that could hold multiple DataFrames called items, each representing a different dataset. However, it has been deprecated since pandas version 0.20.0 and is no longer available in more recent versions. The recommended approach for working with three-dimensional data is to use multi-indexing in a DataFrame."
   ]
  },
  {
   "cell_type": "markdown",
   "id": "3c52146f-0fdc-464e-830d-0e0753d87ed9",
   "metadata": {},
   "source": [
    "Q7. Create a DataFrame using multiple Series. Explain with an example."
   ]
  },
  {
   "cell_type": "code",
   "execution_count": 14,
   "id": "32a26ebe-c1f1-4bc6-9cef-180289c9e236",
   "metadata": {},
   "outputs": [
    {
     "data": {
      "text/html": [
       "<div>\n",
       "<style scoped>\n",
       "    .dataframe tbody tr th:only-of-type {\n",
       "        vertical-align: middle;\n",
       "    }\n",
       "\n",
       "    .dataframe tbody tr th {\n",
       "        vertical-align: top;\n",
       "    }\n",
       "\n",
       "    .dataframe thead th {\n",
       "        text-align: right;\n",
       "    }\n",
       "</style>\n",
       "<table border=\"1\" class=\"dataframe\">\n",
       "  <thead>\n",
       "    <tr style=\"text-align: right;\">\n",
       "      <th></th>\n",
       "      <th>Name</th>\n",
       "      <th>Age</th>\n",
       "      <th>Course</th>\n",
       "    </tr>\n",
       "  </thead>\n",
       "  <tbody>\n",
       "    <tr>\n",
       "      <th>0</th>\n",
       "      <td>Rohit</td>\n",
       "      <td>17</td>\n",
       "      <td>DSA</td>\n",
       "    </tr>\n",
       "    <tr>\n",
       "      <th>1</th>\n",
       "      <td>Mohit</td>\n",
       "      <td>18</td>\n",
       "      <td>C</td>\n",
       "    </tr>\n",
       "    <tr>\n",
       "      <th>2</th>\n",
       "      <td>Ram</td>\n",
       "      <td>21</td>\n",
       "      <td>C++</td>\n",
       "    </tr>\n",
       "    <tr>\n",
       "      <th>3</th>\n",
       "      <td>Shyam</td>\n",
       "      <td>19</td>\n",
       "      <td>JAVA</td>\n",
       "    </tr>\n",
       "    <tr>\n",
       "      <th>4</th>\n",
       "      <td>Rohan</td>\n",
       "      <td>34</td>\n",
       "      <td>DS</td>\n",
       "    </tr>\n",
       "    <tr>\n",
       "      <th>5</th>\n",
       "      <td>Rahul</td>\n",
       "      <td>15</td>\n",
       "      <td>PHP</td>\n",
       "    </tr>\n",
       "    <tr>\n",
       "      <th>6</th>\n",
       "      <td>Mohan</td>\n",
       "      <td>24</td>\n",
       "      <td>JAVASCRIPT</td>\n",
       "    </tr>\n",
       "    <tr>\n",
       "      <th>7</th>\n",
       "      <td>Shreya</td>\n",
       "      <td>25</td>\n",
       "      <td>PYTHON</td>\n",
       "    </tr>\n",
       "  </tbody>\n",
       "</table>\n",
       "</div>"
      ],
      "text/plain": [
       "     Name  Age      Course\n",
       "0   Rohit   17         DSA\n",
       "1   Mohit   18           C\n",
       "2     Ram   21         C++\n",
       "3   Shyam   19        JAVA\n",
       "4   Rohan   34          DS\n",
       "5   Rahul   15         PHP\n",
       "6   Mohan   24  JAVASCRIPT\n",
       "7  Shreya   25      PYTHON"
      ]
     },
     "execution_count": 14,
     "metadata": {},
     "output_type": "execute_result"
    }
   ],
   "source": [
    "import pandas as pd\n",
    "\n",
    "Name = pd.Series(['Rohit', 'Mohit','Ram','Shyam','Rohan','Rahul','Mohan','Shreya'])\n",
    "Age = pd.Series([17,18,21,19,34,15,24,25])\n",
    "Course = pd.Series(['DSA','C','C++','JAVA','DS','PHP','JAVASCRIPT','PYTHON'])\n",
    "\n",
    "data = {'Name':Name,'Age':Age,'Course':Course}\n",
    "\n",
    "df = pd.DataFrame(data)\n",
    "df"
   ]
  },
  {
   "cell_type": "code",
   "execution_count": null,
   "id": "a055a36d-f3ae-4f64-9cf0-f7d8d436a8bd",
   "metadata": {},
   "outputs": [],
   "source": []
  }
 ],
 "metadata": {
  "kernelspec": {
   "display_name": "Python 3 (ipykernel)",
   "language": "python",
   "name": "python3"
  },
  "language_info": {
   "codemirror_mode": {
    "name": "ipython",
    "version": 3
   },
   "file_extension": ".py",
   "mimetype": "text/x-python",
   "name": "python",
   "nbconvert_exporter": "python",
   "pygments_lexer": "ipython3",
   "version": "3.10.8"
  }
 },
 "nbformat": 4,
 "nbformat_minor": 5
}
